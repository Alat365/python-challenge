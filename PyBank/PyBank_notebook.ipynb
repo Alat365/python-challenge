{
 "cells": [
  {
   "cell_type": "code",
   "execution_count": 1,
   "metadata": {},
   "outputs": [],
   "source": [
    "# Importing Modules\n",
    "import os\n",
    "import csv"
   ]
  },
  {
   "cell_type": "code",
   "execution_count": 2,
   "metadata": {},
   "outputs": [],
   "source": [
    "#Setting Variable for path to budget_data.csv\n",
    "#Path below works in notebook but not on main.py\n",
    "#Added 'python-challenge' and 'PyBank' paths to os.path.join() in main.py to fix this \n",
    "budgetdata=os.path.join('Resources','budget_data.csv')\n",
    "\n",
    "# DEBUG: Checking to see if variable is set correctly\n",
    "# budgetdata"
   ]
  },
  {
   "cell_type": "code",
   "execution_count": 3,
   "metadata": {},
   "outputs": [],
   "source": [
    "#Reading budget_data.csv file\n",
    "with open(budgetdata) as csvfile:\n",
    "    budgetreader=csv.reader(csvfile,delimiter=',')\n",
    "\n",
    "    #DEBUG: Checking to make sure that csv.reader is working correctly\n",
    "    # print(budgetreader)\n",
    "\n",
    "    #Reading headers\n",
    "    budgetdata_header=next(budgetreader)\n",
    "\n",
    "    #DEBUG: Chekcing to see if headers were read correctly\n",
    "    # print(budgetdata_header)\n",
    "\n",
    "    #Setting up lists for Date and Profit/Loss\n",
    "    profit_loss=[]\n",
    "    date=[]\n",
    "    for row in budgetreader:\n",
    "        profit_loss.append(int(row[1]))\n",
    "        date.append(row[0])\n",
    "\n",
    "    #Counting Total Months\n",
    "    total_months=len(date)\n",
    "\n",
    "    #DEBUG: Checking to see if Total Months is correct\n",
    "    # print(len(date))\n",
    "\n",
    "    #Finding Net Profit/Loss\n",
    "    net_value=sum(profit_loss)\n",
    "\n",
    "    #DEBUG: Checking to see if Net Profit/Loss is correct\n",
    "    # print(sum(profit_loss))\n",
    "\n",
    "    #Finding average of changes in Profit/Loss\n",
    "    previous = profit_loss[0]\n",
    "    change = []\n",
    "    for current in profit_loss:\n",
    "        if current != previous:\n",
    "            indv_change = current - previous\n",
    "            change.append(indv_change)\n",
    "            previous = current\n",
    "\n",
    "    average_change=sum(change)/(total_months-1) #Subtract 1 from total months to account for # of changes\n",
    "\n",
    "    #Finding Greatest Increase\n",
    "    maximum=max(change)\n",
    "    max_change_date=change.index(maximum)+1 #Add back 1 to reference correct index in date[]\n",
    "\n",
    "    #Finding Greatest Decrease\n",
    "    minimum=min(change)\n",
    "    min_change_date=change.index(minimum)+1 #Add back 1 to reference correct index in date[]\n",
    "    \n",
    "    #DEBUG: Checking \n",
    "    # print(max_change_index)\n",
    "    # print(date[max_change_date])\n",
    "    # print(maximum)\n",
    "\n",
    "    #DEBUG: Checking that average_change is correct\n",
    "    # print(sum(change)/(total_months-1))\n"
   ]
  },
  {
   "cell_type": "code",
   "execution_count": 8,
   "metadata": {},
   "outputs": [
    {
     "name": "stdout",
     "output_type": "stream",
     "text": [
      "Finanical Analysis \n",
      "---------------------------- \n",
      "Total Months: 86 \n",
      "Total: $22564198 \n",
      "Average Change: $-8311.11 \n",
      "Greatest Increase in Profits: Aug-16 ($1862002) \n",
      "Greatest Decrease in Profits: Feb-14 ($-1825558)\n"
     ]
    }
   ],
   "source": [
    "#Storing Financial Analysis as list\n",
    "analysis = [str(f'Finanical Analysis'),\n",
    "            str(f'\\n----------------------------'),\n",
    "            str(f'\\nTotal Months: {total_months}'),\n",
    "            str(f'\\nTotal: ${net_value}'),\n",
    "            str(f'\\nAverage Change: ${round(average_change,2)}'), #looked up round()\n",
    "            str(f'\\nGreatest Increase in Profits: {date[max_change_date]} (${maximum})'),\n",
    "            str(f'\\nGreatest Decrease in Profits: {date[min_change_date]} (${minimum})')\n",
    "]\n",
    "\n",
    "\n",
    "print(*analysis)"
   ]
  },
  {
   "cell_type": "code",
   "execution_count": 5,
   "metadata": {},
   "outputs": [],
   "source": [
    "#Creating path for new .txt file\n",
    "financial_analysis = os.path.join('analysis','Financial Analysis.txt')"
   ]
  },
  {
   "cell_type": "code",
   "execution_count": 6,
   "metadata": {},
   "outputs": [],
   "source": [
    "#Generating new .txt file for results\n",
    "def data_analysis(parameter):\n",
    "    datafile.writelines(parameter)\n",
    "\n",
    "with open(financial_analysis, \"w\") as datafile:\n",
    "    data_analysis(analysis)"
   ]
  }
 ],
 "metadata": {
  "kernelspec": {
   "display_name": "base",
   "language": "python",
   "name": "python3"
  },
  "language_info": {
   "codemirror_mode": {
    "name": "ipython",
    "version": 3
   },
   "file_extension": ".py",
   "mimetype": "text/x-python",
   "name": "python",
   "nbconvert_exporter": "python",
   "pygments_lexer": "ipython3",
   "version": "3.9.13"
  },
  "orig_nbformat": 4
 },
 "nbformat": 4,
 "nbformat_minor": 2
}
