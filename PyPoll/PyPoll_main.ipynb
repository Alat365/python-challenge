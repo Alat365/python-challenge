{
 "cells": [
  {
   "cell_type": "code",
   "execution_count": 1,
   "metadata": {},
   "outputs": [],
   "source": [
    "# Importing Modules\n",
    "import os\n",
    "import csv"
   ]
  },
  {
   "cell_type": "code",
   "execution_count": 2,
   "metadata": {},
   "outputs": [],
   "source": [
    "#Setting Variable for path to election_data.csv\n",
    "#Path below works in notebook but not on main.py\n",
    "#Added 'python-challenge' and 'PyPoll' paths to os.path.join() in main.py to fix this \n",
    "electiondata=os.path.join('Resources','election_data.csv')"
   ]
  },
  {
   "cell_type": "code",
   "execution_count": 9,
   "metadata": {},
   "outputs": [],
   "source": [
    "#Reading election_data.csv file\n",
    "with open(electiondata) as csvfile:\n",
    "    electionreader=csv.reader(csvfile,delimiter=',')\n",
    "\n",
    "    #DEBUG: Checking to make sure that csv.reader is working correctly\n",
    "    # print(electionreader)\n",
    "\n",
    "    #Reading headers\n",
    "    electiondata_header=next(electionreader)\n",
    "\n",
    "    #DEBUG: Chekcing to see if headers were read correctly\n",
    "    # print(electiondata_header)\n",
    "\n",
    "    #Setting up lists for Total Votes/Votes per Candidate\n",
    "    votes=[]\n",
    "    candidates=[]\n",
    "    for row in electionreader:\n",
    "        votes.append(row[0])\n",
    "        candidates.append(row[2])\n",
    "\n",
    "    #Finding Individual Candidates \n",
    "    #list(dict.fromkeys()) found online\n",
    "    indiv_candidates = list(dict.fromkeys(candidates))\n",
    "\n",
    "    #Counting Total Votes\n",
    "    total_votes=len(votes)\n",
    "\n",
    "    #DEBUG: Checking to see if Total Votes is correct\n",
    "    # print(len(votes))\n",
    "\n",
    "    #Counting Votes won per Candidate\n",
    "    candidate1=candidates.count(indiv_candidates[0])\n",
    "    candidate2=candidates.count(indiv_candidates[1])\n",
    "    candidate3=candidates.count(indiv_candidates[2])\n",
    "\n",
    "    count_per_candidate = [candidate1,candidate2,candidate3]\n",
    "\n",
    "    #Finding percent of votes per candidate\n",
    "    #Format for percentage found online\n",
    "    percent_c1=\"{0:.3%}\".format(candidate1/total_votes)\n",
    "    percent_c2=\"{0:.3%}\".format(candidate2/total_votes)\n",
    "    percent_c3=\"{0:.3%}\".format(candidate3/total_votes)\n",
    "\n",
    "    #Determining Winner\n",
    "    vote_count = {indiv_candidates[0]:candidate1,indiv_candidates[1]:candidate2,indiv_candidates[2]:candidate3}\n",
    "    \n",
    "    #Found online how to find max value in dict and return key for winner\n",
    "    winner = max(vote_count, key=vote_count.get)"
   ]
  },
  {
   "cell_type": "code",
   "execution_count": 11,
   "metadata": {},
   "outputs": [
    {
     "name": "stdout",
     "output_type": "stream",
     "text": [
      "Election Results \n",
      "---------------------------- \n",
      "Total Votes: 369711 \n",
      "---------------------------- \n",
      "Charles Casper Stockham: 23.049% (85213) \n",
      "Diana DeGette: 73.812% (272892) \n",
      "Raymon Anthony Doane: 3.139% (11606) \n",
      "---------------------------- \n",
      "Winner: Diana DeGette \n",
      "----------------------------\n"
     ]
    }
   ],
   "source": [
    "#Storing Election Results as list\n",
    "results = [str(f'Election Results'),\n",
    "            str(f'\\n----------------------------'),\n",
    "            str(f'\\nTotal Votes: {total_votes}'),\n",
    "            str(f'\\n----------------------------'),\n",
    "            str(f'\\n{indiv_candidates[0]}: {percent_c1} ({candidate1})'),\n",
    "            str(f'\\n{indiv_candidates[1]}: {percent_c2} ({candidate2})'),\n",
    "            str(f'\\n{indiv_candidates[2]}: {percent_c3} ({candidate3})'),\n",
    "            str(f'\\n----------------------------'),\n",
    "            str(f'\\nWinner: {winner}'),\n",
    "            str(f'\\n----------------------------')\n",
    "]\n",
    "\n",
    "\n",
    "print(*results)"
   ]
  },
  {
   "cell_type": "code",
   "execution_count": 12,
   "metadata": {},
   "outputs": [],
   "source": [
    "#Creating path for new .txt file\n",
    "election_results = os.path.join('analysis','Election Results.txt')"
   ]
  },
  {
   "cell_type": "code",
   "execution_count": 14,
   "metadata": {},
   "outputs": [],
   "source": [
    "#Generating new .txt file for results\n",
    "def data_analysis(parameter):\n",
    "    datafile.writelines(parameter)\n",
    "\n",
    "with open(election_results, \"w\") as datafile:\n",
    "    data_analysis(results)"
   ]
  }
 ],
 "metadata": {
  "kernelspec": {
   "display_name": "base",
   "language": "python",
   "name": "python3"
  },
  "language_info": {
   "codemirror_mode": {
    "name": "ipython",
    "version": 3
   },
   "file_extension": ".py",
   "mimetype": "text/x-python",
   "name": "python",
   "nbconvert_exporter": "python",
   "pygments_lexer": "ipython3",
   "version": "3.9.13"
  },
  "orig_nbformat": 4
 },
 "nbformat": 4,
 "nbformat_minor": 2
}
